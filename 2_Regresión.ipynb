{
  "nbformat": 4,
  "nbformat_minor": 0,
  "metadata": {
    "colab": {
      "provenance": [],
      "collapsed_sections": [],
      "toc_visible": true,
      "include_colab_link": true
    },
    "kernelspec": {
      "name": "python3",
      "display_name": "Python 3"
    },
    "language_info": {
      "name": "python"
    }
  },
  "cells": [
    {
      "cell_type": "markdown",
      "metadata": {
        "id": "view-in-github",
        "colab_type": "text"
      },
      "source": [
        "<a href=\"https://colab.research.google.com/github/vmalonso/Apuntes-IA/blob/main/2_Regresi%C3%B3n.ipynb\" target=\"_parent\"><img src=\"https://colab.research.google.com/assets/colab-badge.svg\" alt=\"Open In Colab\"/></a>"
      ]
    },
    {
      "cell_type": "markdown",
      "metadata": {
        "id": "zfxC9GEta9EY"
      },
      "source": [
        "# Regresión Lineal simple (Descenso del gradiente)"
      ]
    },
    {
      "cell_type": "markdown",
      "metadata": {
        "id": "fZ-HS17ZiDPX"
      },
      "source": [
        "<img src=\"https://drive.google.com/uc?id=1xv6BH4zY4sJlGSrYLplnqaAa1620Urao\" alt=\"Drawing\" width=\"600\"/>"
      ]
    },
    {
      "cell_type": "markdown",
      "metadata": {
        "id": "NIk6l43RiEGv"
      },
      "source": [
        "**En estadística, la regresión lineal es una aproximación lineal para modelar la relación entre una variable dependiente de una o más variables independientes**. Sea **x** la variable independiente e **y** la variable dependiente (calculamos *y* en función de *x*). Definimos una relación lineal entre estas dos variables de la forma siguiente:"
      ]
    },
    {
      "cell_type": "markdown",
      "metadata": {
        "id": "yCKVD-5AUvPm"
      },
      "source": [
        "<center><img src=\"https://drive.google.com/uc?id=1GS23TeM1RXBAk7Ts3sZhJPt8bcMMfxGw\" alt=\"Drawing\" width=\"100\"/></center>"
      ]
    },
    {
      "cell_type": "markdown",
      "metadata": {
        "id": "oeI1QEXKc327"
      },
      "source": [
        "<img src=\"https://drive.google.com/uc?id=16xDlYMjwJbXsSyFoI-BCk2R4IVmfyUPL\" alt=\"Drawing\" width=\"500\"/>\n"
      ]
    },
    {
      "cell_type": "markdown",
      "metadata": {
        "id": "pSlHPX6TjRX4"
      },
      "source": [
        "**m** es la pendiente de la recta. Es decir, cuánto aumenta *y* al aumentar *x*. Ejemplo: para un ángulo de la recta de 45º, al aumentar en 1 la x, la y aumenta 1. Para un ángulo de 0º, la pendiente es 0. Al aumentar x, la y no aumenta.\n",
        "\n",
        "**b** es el punto de corte de la recta en el eje y.\n",
        "\n",
        "Mediante este modelo, podemos predecir el valor de y para cualquier valor de x.\n",
        "\n",
        "<center><img src=\"https://drive.google.com/uc?id=1GkR6sGyvQtK1C4zfHdX57Nw8HuISJHqT\" alt=\"Drawing\" width=\"100\"/></center>\n"
      ]
    },
    {
      "cell_type": "markdown",
      "metadata": {
        "id": "fpmk40E3Bbme"
      },
      "source": [
        "## Función de coste (Loss function)"
      ]
    },
    {
      "cell_type": "markdown",
      "metadata": {
        "id": "qT8b96dkj4v8"
      },
      "source": [
        "El coste es el error que se produce para la recta creada en función de los valores **m** y **b** elegidos.\n",
        "\n",
        "<img src=\"https://drive.google.com/uc?id=1gXqZQa-EVXaP_L-1nmrjKCYh_6G8R8KS\" alt=\"Drawing\" width=\"500\"/>\n",
        "\n",
        "Para diferenciar entre el valor real y el predicho por la recta, llamamos $y_i$ al valor real del punto $(x_i,y_i)$ e $\\hat{y}_i$ al valor predicho ($\\hat{y}_i=mx_i+b$)\n",
        "\n",
        "El error producido en un punto $(x_i,y_i)$ es el valor real para ese punto menos el valor predicho por la recta de regresión: $e_i=y_i-\\hat{y}_i$  o lo que es lo mismo: \n",
        "\n",
        "$e_i=y_i-(mx_i+b)$\n",
        "\n",
        "Existen diversas funciones de coste. Una de ellas podría ser la media de los valores absolutos de los errores:\n",
        "$E=\\frac{1}{n}\\sum_{i=1}^n |e_i|$\n",
        "\n",
        "$E=\\frac{1}{n}\\sum_{i=1}^n |y_i-(mx_i+b)|$\n",
        "\n",
        "Utilizamos el valor absoluto porque hay errores positivos y negativos, por lo que al sumarse se anularían.\n",
        "\n",
        "Normalmente se utiliza como función de coste la media de los cuadrados de los errores (Mean Square Error o MSE):\n",
        "\n",
        "$MSE=\\frac{1}{n}\\sum_{i=1}^n (y_i-(mx_i+b))^2$\n",
        "\n",
        "De esa forma, al elevar al cuadrado se convierten en positivos los errores negativos.\n",
        "\n",
        "En la práctica se usa más RSS (Residual Sum Of Squared errors) o OLS (Ordinary Least Squared errors) que elimina el $\\frac{1}{n}$\n",
        "\n",
        "$RSS=OLS=\\sum_{i=1}^n (y_i-(mx_i+b))^2$\n",
        "\n",
        "RSE (Residual Standard Error)\n",
        "\n",
        "$RSE=\\frac{1}{n-2}\\sum_{i=1}^n (y_i-(mx_i+b))^2$\n",
        "\n",
        "**A la hora de elegir una recta de regresión elegiremos unos valores de *m* y *b* que minimicen la función de coste.**\n",
        "\n",
        "Existen métodos analíticos para calcular **m** y **b** de forma que se minimiza la función de coste, pero para ello hay que calcular la inversa de la matriz X que pude contener millones de elementos. La compejidad es esto es $O(n^3)$, por lo que resulta más rápido utilizar métodos iterativos.\n"
      ]
    },
    {
      "cell_type": "markdown",
      "metadata": {
        "id": "Mlcckk8hB9sO"
      },
      "source": [
        "## Descenso del gradiente (Gradient Descent)"
      ]
    },
    {
      "cell_type": "markdown",
      "metadata": {
        "id": "GwV8u2sNlX8u"
      },
      "source": [
        "\n",
        "Si representamos la función de coste **E** en función de la pendiente, *m*, obtendremos una curva ya que es una función cuadrática:\n",
        "\n",
        "<img src=\"https://drive.google.com/uc?id=1mSuzIcADrKtKUKbyCA_Jlj9xC4eHA_2x\" alt=\"Drawing\" width=\"500\"/>\n",
        "\n",
        "En el descenso del gradiente tomamos un punto aleatorio de la curva y de forma iterativa vamos dando pasos que nos acerquen al mínimo de la curva.\n",
        "\n",
        "Para distintos valores de m, la derivada es la pendiente de la curva:\n",
        "\n",
        "<img src=\"https://drive.google.com/uc?id=1DejMi4KIpp0bKkB9tM5vMuuaD_AwYZ6W\" alt=\"Drawing\" width=\"500\"/>\n",
        "\n",
        "Cuanto mayor es la pendiente más lejos estamos de nuestro objetivo, que es el punto más bajo. Por lo tanto, podremos dar pasos más grandes. Cuando estamos cerca del objetivo daremos pasos más pequeños.\n",
        "\n",
        "Para los distintos valores de b también nos iremos aproximando al valor mínimo:\n",
        "\n",
        "\n",
        "<img src=\"https://drive.google.com/uc?id=1ozWKW9yB4j6zbI-Lck5VxB-LhN1YcWDl\" alt=\"Drawing\" width=\"500\"/>\n",
        "\n",
        "Representado en 3D:\n",
        "\n",
        "\n",
        "<img src=\"https://drive.google.com/uc?id=1qNQiZUWCJaqYIvEtR7p8UgsjHQ-qSyfy\" alt=\"Drawing\" width=\"500\"/>\n",
        "\n",
        "En el descenso del gradiente, partimos de un punto arbitrario A y buscamos el mínimo B. Para calcular cómo tenemos que variar m y b para converger hace B, se calcula la derivada en función de cada una de las variables (m y b). Éstas nos darán la pendiente. Lo importante de esta pendiente es el signo, que me indicará en qué dirección hay que avanzar, incrementando o decrementando m y b. Si la pendiente es positiva, tenemos que ir en la dirección contraria, por lo que tendremos que disminuir la variable (m ó b).\n",
        "\n",
        "El método del Descenso del Gradiente es el siguiente:\n",
        "\n",
        "\n",
        "\n",
        "\n",
        "1.   Inicializamos **m** y **b** a 0, o a unos valores aleatorios.\n",
        "2.   El ratio de aprendizaje (**learning rate**) indica el tamaño de los pasos que damos para acercarnos a nuestro objetivo. Este ratio, **L**, suele ser un valor muy pequeño, comprendido entre 0.1 y 0.0001. Hay que probar para ver cuál es el más apropiado para que avance deprisa pero que no se pase, porque en caso de pasarnos, el método, en lugar de converger al objetivo, éste diverge:\n",
        "\n",
        "<img src=\"https://drive.google.com/uc?id=1OQ2EmytPzm8FSP5GdAYok1Yc2w6_fq3H\" alt=\"Drawing\" width=\"500\"/>\n",
        "\n",
        "3.    Calculamos las derivadas parciales con respecto a m de $MSE=\\frac{1}{n}\\sum_{i=1}^n (y_i-(mx_i+b))^2$:\n",
        "\n",
        "> $D_m=\\frac{1}{n}\\sum_{i=1}^n 2(y_i-(mx_i+b))(-x_i)$\n",
        "\n",
        "> $D_m=\\frac{-2}{n}\\sum_{i=1}^n x_i(y_i-\\hat{y_i})$\n",
        "\n",
        "> Y las derivadas parciales con respecto a b:\n",
        "\n",
        "> $D_b=\\frac{1}{n}\\sum_{i=1}^n 2(y_i-(mx_i+b))$\n",
        "\n",
        "> $D_b=\\frac{-2}{n}\\sum_{i=1}^n (y_i-\\hat{y_i})$\n",
        "\n",
        "4.    Ahora actualizamos los valores actuales de m y b de la siguiente forma:\n",
        "\n",
        "> $m=m-L·D_m$\n",
        "\n",
        "> $b=b-L·D_b$\n",
        "\n",
        "5.    Repetimos el proceso desde el punto 3 hasta que la función de coste tenga un valor mínimo (0 idealmente, lo que significaría un error de 0 o 100% de precisión). Los valores de m y b en este momento serán los valores óptimos.\n",
        "\n",
        "      Considerando la analogía con el excursionista, m puede ser considerada la posición actual, mientras que D es el equivalente a la pendiente de la cuesta, y la L la velocidad a la que se mueve. Cuando D es grande, da pasos mayores que cuando la D es pequeña. Cuando llegue al valle, nuestra función de coste será mínima.\n",
        "\n",
        "\n"
      ]
    },
    {
      "cell_type": "markdown",
      "metadata": {
        "id": "eUCiAQgvBHAr"
      },
      "source": [
        "## Coeficiente de determinación $R^2$\n"
      ]
    },
    {
      "cell_type": "markdown",
      "metadata": {
        "id": "qum_n1pbCED8"
      },
      "source": [
        "El coeficiente de determinación, también llamado R cuadrado, refleja la bondad del ajuste de un modelo a la variable que pretende explicar.\n",
        "\n",
        "$\\large{R^2=\\frac{\\sum_{i=1}^n (\\hat{y}_i-\\bar{y})^2}{\\sum_{i=1}^n (y_i-\\bar{y})^2}}$\n",
        "\n",
        "Donde $\\bar{y}$ es la media de los valores $y_i$\n",
        "\n",
        "El coeficiente de determinación oscila entre 0 y 1. Cuanto más cerca de 1 se sitúe su valor, mayor será el ajuste del modelo a la variable que estamos intentando explicar. De forma inversa, cuanto más cerca de cero, menos ajustado estará el modelo y, por tanto, menos fiable será.\n",
        "\n",
        "*(Interesante explicación aquí: https://www.youtube.com/watch?v=2AQKmw14mHM)*\n",
        "\n"
      ]
    },
    {
      "cell_type": "markdown",
      "metadata": {
        "id": "-dlmtUEr2Gmc"
      },
      "source": [
        "## Regresión lineal simple en Python"
      ]
    },
    {
      "cell_type": "code",
      "metadata": {
        "id": "i-fFAVHa2J0-"
      },
      "source": [
        "import numpy as np\n",
        "import pandas as pd"
      ],
      "execution_count": null,
      "outputs": []
    },
    {
      "cell_type": "markdown",
      "metadata": {
        "id": "Qbdr76Cc2hao"
      },
      "source": [
        "Procesamiento de los datos de entrada:"
      ]
    },
    {
      "cell_type": "code",
      "metadata": {
        "id": "AFlXp_hP2gJs"
      },
      "source": [
        "# Para obtener el csv de google drive, obtener enlace y copiar el ID del fichero\n",
        "# y añadir a esta URL:  https://drive.google.com/uc?export=download&id=\n",
        "\n",
        "df = pd.read_csv('https://drive.google.com/uc?export=download&id=1fenMPzvOrgT9qoI80tmPAtfbOZYZ3n-X', header=None)\n",
        "x = df.iloc[:, 0]\n",
        "y = df.iloc[:, 1]"
      ],
      "execution_count": null,
      "outputs": []
    },
    {
      "cell_type": "code",
      "metadata": {
        "id": "VtMDFeyhlHph",
        "colab": {
          "base_uri": "https://localhost:8080/"
        },
        "outputId": "1903cae2-421c-4ec2-b06b-297fba3974f6"
      },
      "source": [
        "y"
      ],
      "execution_count": null,
      "outputs": [
        {
          "output_type": "execute_result",
          "data": {
            "text/plain": [
              "0     31.707006\n",
              "1     68.777596\n",
              "2     62.562382\n",
              "3     71.546632\n",
              "4     87.230925\n",
              "        ...    \n",
              "95    81.536991\n",
              "96    72.111832\n",
              "97    85.232007\n",
              "98    66.224958\n",
              "99    53.454394\n",
              "Name: 1, Length: 100, dtype: float64"
            ]
          },
          "metadata": {},
          "execution_count": 3
        }
      ]
    },
    {
      "cell_type": "code",
      "metadata": {
        "id": "EQ9ZjPDCTbnC",
        "colab": {
          "base_uri": "https://localhost:8080/",
          "height": 206
        },
        "outputId": "4b6d8f95-de99-4191-ba15-c064b2a9d06f"
      },
      "source": [
        "# Si queremos etiquetar las columnas (features)\n",
        "df.columns = ['x', 'y']\n",
        "df.head(5)"
      ],
      "execution_count": null,
      "outputs": [
        {
          "output_type": "execute_result",
          "data": {
            "text/plain": [
              "           x          y\n",
              "0  32.502345  31.707006\n",
              "1  53.426804  68.777596\n",
              "2  61.530358  62.562382\n",
              "3  47.475640  71.546632\n",
              "4  59.813208  87.230925"
            ],
            "text/html": [
              "\n",
              "  <div id=\"df-edc2379e-1655-462a-8876-0223ea564302\">\n",
              "    <div class=\"colab-df-container\">\n",
              "      <div>\n",
              "<style scoped>\n",
              "    .dataframe tbody tr th:only-of-type {\n",
              "        vertical-align: middle;\n",
              "    }\n",
              "\n",
              "    .dataframe tbody tr th {\n",
              "        vertical-align: top;\n",
              "    }\n",
              "\n",
              "    .dataframe thead th {\n",
              "        text-align: right;\n",
              "    }\n",
              "</style>\n",
              "<table border=\"1\" class=\"dataframe\">\n",
              "  <thead>\n",
              "    <tr style=\"text-align: right;\">\n",
              "      <th></th>\n",
              "      <th>x</th>\n",
              "      <th>y</th>\n",
              "    </tr>\n",
              "  </thead>\n",
              "  <tbody>\n",
              "    <tr>\n",
              "      <th>0</th>\n",
              "      <td>32.502345</td>\n",
              "      <td>31.707006</td>\n",
              "    </tr>\n",
              "    <tr>\n",
              "      <th>1</th>\n",
              "      <td>53.426804</td>\n",
              "      <td>68.777596</td>\n",
              "    </tr>\n",
              "    <tr>\n",
              "      <th>2</th>\n",
              "      <td>61.530358</td>\n",
              "      <td>62.562382</td>\n",
              "    </tr>\n",
              "    <tr>\n",
              "      <th>3</th>\n",
              "      <td>47.475640</td>\n",
              "      <td>71.546632</td>\n",
              "    </tr>\n",
              "    <tr>\n",
              "      <th>4</th>\n",
              "      <td>59.813208</td>\n",
              "      <td>87.230925</td>\n",
              "    </tr>\n",
              "  </tbody>\n",
              "</table>\n",
              "</div>\n",
              "      <button class=\"colab-df-convert\" onclick=\"convertToInteractive('df-edc2379e-1655-462a-8876-0223ea564302')\"\n",
              "              title=\"Convert this dataframe to an interactive table.\"\n",
              "              style=\"display:none;\">\n",
              "        \n",
              "  <svg xmlns=\"http://www.w3.org/2000/svg\" height=\"24px\"viewBox=\"0 0 24 24\"\n",
              "       width=\"24px\">\n",
              "    <path d=\"M0 0h24v24H0V0z\" fill=\"none\"/>\n",
              "    <path d=\"M18.56 5.44l.94 2.06.94-2.06 2.06-.94-2.06-.94-.94-2.06-.94 2.06-2.06.94zm-11 1L8.5 8.5l.94-2.06 2.06-.94-2.06-.94L8.5 2.5l-.94 2.06-2.06.94zm10 10l.94 2.06.94-2.06 2.06-.94-2.06-.94-.94-2.06-.94 2.06-2.06.94z\"/><path d=\"M17.41 7.96l-1.37-1.37c-.4-.4-.92-.59-1.43-.59-.52 0-1.04.2-1.43.59L10.3 9.45l-7.72 7.72c-.78.78-.78 2.05 0 2.83L4 21.41c.39.39.9.59 1.41.59.51 0 1.02-.2 1.41-.59l7.78-7.78 2.81-2.81c.8-.78.8-2.07 0-2.86zM5.41 20L4 18.59l7.72-7.72 1.47 1.35L5.41 20z\"/>\n",
              "  </svg>\n",
              "      </button>\n",
              "      \n",
              "  <style>\n",
              "    .colab-df-container {\n",
              "      display:flex;\n",
              "      flex-wrap:wrap;\n",
              "      gap: 12px;\n",
              "    }\n",
              "\n",
              "    .colab-df-convert {\n",
              "      background-color: #E8F0FE;\n",
              "      border: none;\n",
              "      border-radius: 50%;\n",
              "      cursor: pointer;\n",
              "      display: none;\n",
              "      fill: #1967D2;\n",
              "      height: 32px;\n",
              "      padding: 0 0 0 0;\n",
              "      width: 32px;\n",
              "    }\n",
              "\n",
              "    .colab-df-convert:hover {\n",
              "      background-color: #E2EBFA;\n",
              "      box-shadow: 0px 1px 2px rgba(60, 64, 67, 0.3), 0px 1px 3px 1px rgba(60, 64, 67, 0.15);\n",
              "      fill: #174EA6;\n",
              "    }\n",
              "\n",
              "    [theme=dark] .colab-df-convert {\n",
              "      background-color: #3B4455;\n",
              "      fill: #D2E3FC;\n",
              "    }\n",
              "\n",
              "    [theme=dark] .colab-df-convert:hover {\n",
              "      background-color: #434B5C;\n",
              "      box-shadow: 0px 1px 3px 1px rgba(0, 0, 0, 0.15);\n",
              "      filter: drop-shadow(0px 1px 2px rgba(0, 0, 0, 0.3));\n",
              "      fill: #FFFFFF;\n",
              "    }\n",
              "  </style>\n",
              "\n",
              "      <script>\n",
              "        const buttonEl =\n",
              "          document.querySelector('#df-edc2379e-1655-462a-8876-0223ea564302 button.colab-df-convert');\n",
              "        buttonEl.style.display =\n",
              "          google.colab.kernel.accessAllowed ? 'block' : 'none';\n",
              "\n",
              "        async function convertToInteractive(key) {\n",
              "          const element = document.querySelector('#df-edc2379e-1655-462a-8876-0223ea564302');\n",
              "          const dataTable =\n",
              "            await google.colab.kernel.invokeFunction('convertToInteractive',\n",
              "                                                     [key], {});\n",
              "          if (!dataTable) return;\n",
              "\n",
              "          const docLinkHtml = 'Like what you see? Visit the ' +\n",
              "            '<a target=\"_blank\" href=https://colab.research.google.com/notebooks/data_table.ipynb>data table notebook</a>'\n",
              "            + ' to learn more about interactive tables.';\n",
              "          element.innerHTML = '';\n",
              "          dataTable['output_type'] = 'display_data';\n",
              "          await google.colab.output.renderOutput(dataTable, element);\n",
              "          const docLink = document.createElement('div');\n",
              "          docLink.innerHTML = docLinkHtml;\n",
              "          element.appendChild(docLink);\n",
              "        }\n",
              "      </script>\n",
              "    </div>\n",
              "  </div>\n",
              "  "
            ]
          },
          "metadata": {},
          "execution_count": 4
        }
      ]
    },
    {
      "cell_type": "markdown",
      "metadata": {
        "id": "798lGqR83Kz4"
      },
      "source": [
        "Graficación de los datos:"
      ]
    },
    {
      "cell_type": "code",
      "metadata": {
        "colab": {
          "base_uri": "https://localhost:8080/",
          "height": 537
        },
        "id": "T1svjjDg22CW",
        "outputId": "6e7fc62d-219e-43ca-f870-0d5a12300b5c"
      },
      "source": [
        "import matplotlib.pyplot as plt\n",
        "plt.figure(figsize=(12,9))\n",
        "plt.scatter(x, y)\n",
        "plt.show()"
      ],
      "execution_count": 16,
      "outputs": [
        {
          "output_type": "display_data",
          "data": {
            "text/plain": [
              "<Figure size 864x648 with 1 Axes>"
            ],
            "image/png": "[encoded data removed]"
          },
          "metadata": {
            "needs_background": "light"
          }
        }
      ]
    },
    {
      "cell_type": "markdown",
      "metadata": {
        "id": "ndqxNFyE3ceE"
      },
      "source": [
        "Construcción del modelo:"
      ]
    },
    {
      "cell_type": "code",
      "metadata": {
        "colab": {
          "base_uri": "https://localhost:8080/"
        },
        "id": "E_Z-RrIR3Y80",
        "outputId": "5f5a2b89-5837-43d1-b2e3-9c42500928eb"
      },
      "source": [
        "m = 0\n",
        "b = 0\n",
        " \n",
        "L = 0.00001  # El ratio de aprendizaje\n",
        "epochs = 1000  # Número de iteraciones para hacer el gradient descent\n",
        " \n",
        "n = float(len(x)) # Número de elementos en X\n",
        " \n",
        "# Iterando para hacer el Gradient Descent\n",
        "for i in range(epochs):\n",
        "   y_pred = m * x + b  # El valor predicho de y actual\n",
        "   D_m = (-2/n) * sum(x * (y - y_pred))  # Derivada con respeco a m\n",
        "   D_b = (-2/n) * sum(y - y_pred)  # Derivada con respeco b\n",
        "   m = m - L * D_m  # Actualizar m\n",
        "   b = b - L * D_b  # Actualizar b\n",
        "  \n",
        "print (m, b)\n"
      ],
      "execution_count": null,
      "outputs": [
        {
          "output_type": "stream",
          "name": "stdout",
          "text": [
            "1.4788027179317091 0.03507495019653123\n"
          ]
        }
      ]
    },
    {
      "cell_type": "markdown",
      "metadata": {
        "id": "_JTRze3D30Eo"
      },
      "source": [
        "Haciendo predicciones:"
      ]
    },
    {
      "cell_type": "code",
      "metadata": {
        "colab": {
          "base_uri": "https://localhost:8080/",
          "height": 537
        },
        "id": "ogJdjYS43yMd",
        "outputId": "83d7cfd7-0fa5-4e3a-cf3f-cf458da143a7"
      },
      "source": [
        "y_pred = m*x + b\n",
        "\n",
        "plt.figure(figsize=(12,9)) \n",
        "plt.scatter(x, y)\n",
        "plt.plot([min(x), max(x)], [min(y_pred), max(y_pred)], color='red')  # Línea de regresión\n",
        "plt.show()\n"
      ],
      "execution_count": null,
      "outputs": [
        {
          "output_type": "display_data",
          "data": {
            "image/png": "[encoded data removed]",
            "text/plain": [
              "<Figure size 864x648 with 1 Axes>"
            ]
          },
          "metadata": {
            "needs_background": "light"
          }
        }
      ]
    },
    {
      "cell_type": "markdown",
      "metadata": {
        "id": "yZ4Xi-5E4QQb"
      },
      "source": [
        "Función de coste:"
      ]
    },
    {
      "cell_type": "code",
      "metadata": {
        "colab": {
          "base_uri": "https://localhost:8080/"
        },
        "id": "QU64W0mN4OXK",
        "outputId": "afae27db-53cb-482f-9b29-b2b83754420a"
      },
      "source": [
        "# función de coste\n",
        "# Mean Squared Error\n",
        "MSE = np.square(y - y_pred).mean()\n",
        "print(\"MSE =\", MSE)\n"
      ],
      "execution_count": null,
      "outputs": [
        {
          "output_type": "stream",
          "name": "stdout",
          "text": [
            "MSE = 112.64705665514033\n"
          ]
        }
      ]
    },
    {
      "cell_type": "code",
      "metadata": {
        "colab": {
          "base_uri": "https://localhost:8080/"
        },
        "id": "0scxMSoRsSYs",
        "outputId": "8d8517b8-07e8-443e-c626-4b63c278e1cf"
      },
      "source": [
        "np.corrcoef(x, y)\n"
      ],
      "execution_count": null,
      "outputs": [
        {
          "output_type": "execute_result",
          "data": {
            "text/plain": [
              "array([[1.       , 0.7737285],\n",
              "       [0.7737285, 1.       ]])"
            ]
          },
          "metadata": {},
          "execution_count": 40
        }
      ]
    },
    {
      "cell_type": "code",
      "metadata": {
        "colab": {
          "base_uri": "https://localhost:8080/"
        },
        "id": "55nXJxt54SQZ",
        "outputId": "ec75bc97-9615-46f5-e8f0-2e8d9314ae98"
      },
      "source": [
        "R2 = np.corrcoef(x, y)[0, 1]**2\n",
        "print(\"R2 =\", R2)"
      ],
      "execution_count": null,
      "outputs": [
        {
          "output_type": "stream",
          "name": "stdout",
          "text": [
            "R2 = 0.5986557915386621\n"
          ]
        }
      ]
    },
    {
      "cell_type": "markdown",
      "metadata": {
        "id": "z-A-rkmM4oyB"
      },
      "source": [
        "## Regresión lineal simple usando Scikit-Learn"
      ]
    },
    {
      "cell_type": "code",
      "metadata": {
        "id": "9f9X6zcp5JTP"
      },
      "source": [
        "import numpy as np\n",
        "import pandas as pd\n",
        "from sklearn.linear_model import LinearRegression"
      ],
      "execution_count": 7,
      "outputs": []
    },
    {
      "cell_type": "code",
      "metadata": {
        "id": "sM4LFxn74tKN"
      },
      "source": [
        "# Otra forma de leer el csv\n",
        "data = np.genfromtxt('https://drive.google.com/uc?export=download&id=1fenMPzvOrgT9qoI80tmPAtfbOZYZ3n-X', delimiter=',')\n",
        "x = data[:, 0]\n",
        "y = data[:, 1]\n"
      ],
      "execution_count": 8,
      "outputs": []
    },
    {
      "cell_type": "code",
      "metadata": {
        "id": "-zswJec35eUx"
      },
      "source": [
        "x"
      ],
      "execution_count": null,
      "outputs": []
    },
    {
      "cell_type": "code",
      "metadata": {
        "id": "TiVoS18S5e52"
      },
      "source": [
        "# Convertir en columna\n",
        "x = x.reshape(-1, 1)\n",
        "y = y.reshape(-1, 1)"
      ],
      "execution_count": 9,
      "outputs": []
    },
    {
      "cell_type": "code",
      "metadata": {
        "id": "pTMJ9Qxf5kiD"
      },
      "source": [
        "x"
      ],
      "execution_count": null,
      "outputs": []
    },
    {
      "cell_type": "markdown",
      "metadata": {
        "id": "ciDoBG1752JN"
      },
      "source": [
        "Construimos el modelo"
      ]
    },
    {
      "cell_type": "code",
      "metadata": {
        "id": "xY6hDhRV5i0u"
      },
      "source": [
        "reg = LinearRegression()\n"
      ],
      "execution_count": 10,
      "outputs": []
    },
    {
      "cell_type": "markdown",
      "metadata": {
        "id": "Nuzk7OSVsoy9"
      },
      "source": [
        "... y lo entrenamos"
      ]
    },
    {
      "cell_type": "code",
      "metadata": {
        "colab": {
          "base_uri": "https://localhost:8080/"
        },
        "id": "4NSUsqcdsvR2",
        "outputId": "5a158092-3638-4b85-a19a-fe4b5d70ed17"
      },
      "source": [
        "reg.fit(x, y)"
      ],
      "execution_count": 11,
      "outputs": [
        {
          "output_type": "execute_result",
          "data": {
            "text/plain": [
              "LinearRegression()"
            ]
          },
          "metadata": {},
          "execution_count": 11
        }
      ]
    },
    {
      "cell_type": "code",
      "metadata": {
        "colab": {
          "base_uri": "https://localhost:8080/"
        },
        "id": "rBUGm-v2u6-I",
        "outputId": "5c0b6338-fb30-4b81-e282-dc9af4efafc8"
      },
      "source": [
        "reg.coef_"
      ],
      "execution_count": 12,
      "outputs": [
        {
          "output_type": "execute_result",
          "data": {
            "text/plain": [
              "array([[1.32243102]])"
            ]
          },
          "metadata": {},
          "execution_count": 12
        }
      ]
    },
    {
      "cell_type": "markdown",
      "metadata": {
        "id": "_Ouc67sFs1q3"
      },
      "source": [
        "Los parámetros m y b son los siguientes:"
      ]
    },
    {
      "cell_type": "code",
      "metadata": {
        "colab": {
          "base_uri": "https://localhost:8080/"
        },
        "id": "7wNRd8P7s4FN",
        "outputId": "7d6d8ae7-03cc-4e12-a18b-f52e639a0db4"
      },
      "source": [
        "m = reg.coef_[0][0]\n",
        "print(m)\n",
        "b = reg.intercept_[0]\n",
        "print(b)"
      ],
      "execution_count": 13,
      "outputs": [
        {
          "output_type": "stream",
          "name": "stdout",
          "text": [
            "1.3224310227553597\n",
            "7.991020982270399\n"
          ]
        }
      ]
    },
    {
      "cell_type": "markdown",
      "metadata": {
        "id": "bDbTm4PO597D"
      },
      "source": [
        "Haciendo predicciones:"
      ]
    },
    {
      "cell_type": "code",
      "metadata": {
        "id": "vwzQZEVR56Tf"
      },
      "source": [
        "y_pred = m*x + b\n"
      ],
      "execution_count": 14,
      "outputs": []
    },
    {
      "cell_type": "code",
      "metadata": {
        "id": "vOt9fG-_jgsa"
      },
      "source": [
        "y_pred"
      ],
      "execution_count": null,
      "outputs": []
    },
    {
      "cell_type": "code",
      "metadata": {
        "colab": {
          "base_uri": "https://localhost:8080/",
          "height": 537
        },
        "id": "k8SvnEox6DEE",
        "outputId": "281308fa-e23f-40bd-f3ec-af51bd365edd"
      },
      "source": [
        "plt.figure(figsize=(12,9))\n",
        "plt.scatter(x, y)\n",
        "plt.plot([min(x), max(x)], [min(y_pred), max(y_pred)], color='red')  # Línea de regresión\n",
        "plt.show()\n"
      ],
      "execution_count": 17,
      "outputs": [
        {
          "output_type": "display_data",
          "data": {
            "text/plain": [
              "<Figure size 864x648 with 1 Axes>"
            ],
            "image/png": "[encoded data removed]"
          },
          "metadata": {
            "needs_background": "light"
          }
        }
      ]
    },
    {
      "cell_type": "code",
      "metadata": {
        "id": "8J4F3Wu56F8e"
      },
      "source": [
        "# Otra forma, genérica en machine learning\n",
        "y_pred = reg.predict(x)"
      ],
      "execution_count": 18,
      "outputs": []
    },
    {
      "cell_type": "code",
      "metadata": {
        "colab": {
          "base_uri": "https://localhost:8080/",
          "height": 537
        },
        "id": "ytBDRBz86WU2",
        "outputId": "ad633641-2344-44e2-ea99-054983086dd7"
      },
      "source": [
        "plt.figure(figsize=(12,9))\n",
        "plt.scatter(x, y)\n",
        "plt.plot([min(x), max(x)], [min(y_pred), max(y_pred)], color='red')  # Línea de regresión\n",
        "plt.show()"
      ],
      "execution_count": 19,
      "outputs": [
        {
          "output_type": "display_data",
          "data": {
            "text/plain": [
              "<Figure size 864x648 with 1 Axes>"
            ],
            "image/png": "[encoded data removed]"
          },
          "metadata": {
            "needs_background": "light"
          }
        }
      ]
    },
    {
      "cell_type": "code",
      "metadata": {
        "colab": {
          "base_uri": "https://localhost:8080/"
        },
        "id": "RUnSxwNH6Zg6",
        "outputId": "77329328-fd27-4717-c7db-f145e6bd241b"
      },
      "source": [
        "# función de coste\n",
        "# Mean Squared Error\n",
        "MSE = np.square(np.subtract(y, y_pred)).mean()\n",
        "print(MSE)\n",
        " \n",
        "# Otra forma de calcularlo:\n",
        "from sklearn.metrics import mean_squared_error\n",
        "print(mean_squared_error(y, y_pred))\n",
        " \n",
        "# Otra métrica\n",
        "from sklearn.metrics import r2_score\n",
        "print(r2_score(y, y_pred))\n"
      ],
      "execution_count": 22,
      "outputs": [
        {
          "output_type": "stream",
          "name": "stdout",
          "text": [
            "110.25738346621316\n",
            "110.25738346621316\n",
            "0.598655791538662\n"
          ]
        }
      ]
    },
    {
      "cell_type": "code",
      "metadata": {
        "colab": {
          "base_uri": "https://localhost:8080/"
        },
        "id": "yENo_aALtR2i",
        "outputId": "650fec27-d437-4782-a5dd-ecdd96edd49b"
      },
      "source": [
        "print(reg.score(x,y)) # Otra forma. El score() es la evaluación del modelo en general.\n",
        "# Para cada algoritmo el score es la métrica más utilizada para dicho modelo."
      ],
      "execution_count": 23,
      "outputs": [
        {
          "output_type": "stream",
          "name": "stdout",
          "text": [
            "0.598655791538662\n"
          ]
        }
      ]
    },
    {
      "cell_type": "markdown",
      "metadata": {
        "id": "n28TBX1T7c1j"
      },
      "source": [
        "# Regresión polinómica"
      ]
    },
    {
      "cell_type": "markdown",
      "metadata": {
        "id": "w2XM1nIK7pzf"
      },
      "source": [
        "En ocasiones la distribución de los puntos no se ajusta a una recta sino a una curva. En estos es imposible ajustar una recta de regresión, pero basta con crear un polinomio de grado 2, 3, etc… para conseguir un mejor ajuste.\n",
        "\n",
        "<img src=\"https://drive.google.com/uc?id=1hpUhVFFpHdztGc6DolzVg784P_FXQilJ\" alt=\"Drawing\" width=\"600\"/>\n",
        "\n"
      ]
    },
    {
      "cell_type": "markdown",
      "metadata": {
        "id": "CPCkNWbG7vpA"
      },
      "source": [
        "$y=w_0+w_1x^2+w_2x$\n",
        "\n",
        "Hemos cambiado la notación para que esté en mayor consonancia con la utilizada en machine learning, pero lo único que hemos añadido a la fórmula $y=mx+b$ de la regresión lineal es el término $w_1x^2$\n"
      ]
    },
    {
      "cell_type": "markdown",
      "metadata": {
        "id": "eCmxHQp3FbJV"
      },
      "source": [
        "Vamos a generar un conjunto de datos aleatorio que se ajuste a una curva:\n",
        "En python: \n"
      ]
    },
    {
      "cell_type": "code",
      "metadata": {
        "id": "6i27krsZ7o6f"
      },
      "source": [
        "import numpy as np\n",
        "import matplotlib.pyplot as plt"
      ],
      "execution_count": 1,
      "outputs": []
    },
    {
      "cell_type": "code",
      "metadata": {
        "id": "I2s-YDPn7nLM",
        "colab": {
          "base_uri": "https://localhost:8080/",
          "height": 555
        },
        "outputId": "307b3cb1-f406-4e04-cf5f-57da224b4516"
      },
      "source": [
        "# generando un conjunto de datos aleatorio que se ajuste a una curva\n",
        "n = 100\n",
        "# np.random.rand genera un número aleatorio correspondiente a una distribuación\n",
        "# normal de media =0 y desviación típica = 1\n",
        "np.random.seed(0)\n",
        "x = 6 * np.random.rand(n, 1) - 3\n",
        "x_sorted = np.sort(x, axis=0)\n",
        "y = 0.5 * x_sorted**2 + x_sorted + 2 + np.random.randn(n, 1) # randn -> normal distribution\n",
        " \n",
        "plt.figure(figsize=(12,9))\n",
        "plt.scatter(x_sorted, y)\n"
      ],
      "execution_count": 4,
      "outputs": [
        {
          "output_type": "execute_result",
          "data": {
            "text/plain": [
              "<matplotlib.collections.PathCollection at 0x7f882d31f310>"
            ]
          },
          "metadata": {},
          "execution_count": 4
        },
        {
          "output_type": "display_data",
          "data": {
            "text/plain": [
              "<Figure size 864x648 with 1 Axes>"
            ],
            "image/png": "[encoded data removed]"
          },
          "metadata": {
            "needs_background": "light"
          }
        }
      ]
    },
    {
      "cell_type": "markdown",
      "metadata": {
        "id": "ImeFIvleFnJd"
      },
      "source": [
        "Puedes dibujar la función $0.5 x^2 + x + 2$ aquí:\n",
        "https://www.desmos.com/calculator\n"
      ]
    },
    {
      "cell_type": "code",
      "metadata": {
        "colab": {
          "base_uri": "https://localhost:8080/"
        },
        "id": "cxoChm4ZFgyP",
        "outputId": "5f56e5ec-ddf2-4800-c3b0-eb5ba36f9af7"
      },
      "source": [
        "from sklearn.preprocessing import PolynomialFeatures\n",
        "poly_features = PolynomialFeatures(degree=2, include_bias=False)\n",
        "X_poly = poly_features.fit_transform(x_sorted) # añade x al cuadrado\n",
        "print(X_poly.shape)"
      ],
      "execution_count": 47,
      "outputs": [
        {
          "output_type": "stream",
          "name": "stdout",
          "text": [
            "(100, 2)\n"
          ]
        }
      ]
    },
    {
      "cell_type": "code",
      "metadata": {
        "id": "AakHsxMfuUs2"
      },
      "source": [
        "X_poly"
      ],
      "execution_count": null,
      "outputs": []
    },
    {
      "cell_type": "markdown",
      "metadata": {
        "id": "3lpBOXrdF7Cd"
      },
      "source": [
        "Ahora X_poly contiene el feature x y el cuadrado de esta feature.\n"
      ]
    },
    {
      "cell_type": "code",
      "metadata": {
        "colab": {
          "base_uri": "https://localhost:8080/"
        },
        "id": "8qlmSVrmFyjj",
        "outputId": "e484f111-296e-4bd8-9027-544f7f2acb0d"
      },
      "source": [
        "from sklearn.linear_model import LinearRegression\n",
        "lin_reg = LinearRegression()\n",
        " \n",
        "lin_reg.fit(X_poly, y)\n",
        "print(\"Coef:\",lin_reg.coef_)\n",
        "print(\"Punto de corte:\", lin_reg.intercept_)\n"
      ],
      "execution_count": 48,
      "outputs": [
        {
          "output_type": "stream",
          "name": "stdout",
          "text": [
            "Coef: [[0.99267977 0.52387324]]\n",
            "Punto de corte: [2.08727039]\n"
          ]
        }
      ]
    },
    {
      "cell_type": "markdown",
      "metadata": {
        "id": "WLYg7m1-GQKN"
      },
      "source": [
        "Como podemos comprobar, los valores calculados de $w_0$, $w_1$ y $w_2$ son muy parecidos a los utilizados realmente para generar los valores de prueba,\n"
      ]
    },
    {
      "cell_type": "code",
      "metadata": {
        "id": "dZ4VIoeaGOP8"
      },
      "source": [
        "y_pred = lin_reg.predict(X_poly)"
      ],
      "execution_count": 49,
      "outputs": []
    },
    {
      "cell_type": "code",
      "metadata": {
        "colab": {
          "base_uri": "https://localhost:8080/",
          "height": 555
        },
        "id": "leiwrPvPGUx8",
        "outputId": "84990bde-d4ba-4d26-b1ab-7fe423480caf"
      },
      "source": [
        "plt.figure(figsize=(12,9))\n",
        "plt.scatter(x_sorted, y)\n",
        "plt.plot(x_sorted, y_pred, c='r')"
      ],
      "execution_count": 50,
      "outputs": [
        {
          "output_type": "execute_result",
          "data": {
            "text/plain": [
              "[<matplotlib.lines.Line2D at 0x7fe03cc8ddd0>]"
            ]
          },
          "metadata": {},
          "execution_count": 50
        },
        {
          "output_type": "display_data",
          "data": {
            "text/plain": [
              "<Figure size 864x648 with 1 Axes>"
            ],
            "image/png": "[encoded data removed]"
          },
          "metadata": {
            "needs_background": "light"
          }
        }
      ]
    },
    {
      "cell_type": "code",
      "metadata": {
        "colab": {
          "base_uri": "https://localhost:8080/"
        },
        "id": "GCM0EUL_b_Nq",
        "outputId": "02549da3-09e9-447b-86f3-5cdd1052aa9e"
      },
      "source": [
        "from sklearn import metrics\n",
        "print(metrics.r2_score(y, y_pred))"
      ],
      "execution_count": 51,
      "outputs": [
        {
          "output_type": "stream",
          "name": "stdout",
          "text": [
            "0.8113531844680646\n"
          ]
        }
      ]
    },
    {
      "cell_type": "code",
      "metadata": {
        "colab": {
          "base_uri": "https://localhost:8080/"
        },
        "id": "rIYODj8e1kWl",
        "outputId": "56be275c-8fca-4237-f0ec-6078d497c964"
      },
      "source": [
        "print(mean_squared_error(y, y_pred))"
      ],
      "execution_count": 52,
      "outputs": [
        {
          "output_type": "stream",
          "name": "stdout",
          "text": [
            "0.93425625270656\n"
          ]
        }
      ]
    },
    {
      "cell_type": "code",
      "metadata": {
        "id": "gBbyoNu6cn9T",
        "colab": {
          "base_uri": "https://localhost:8080/",
          "height": 38
        },
        "outputId": "34d410f1-8481-4d55-dca7-e472e51dc718"
      },
      "source": [
        "# Ejercicio.\n",
        "# Modifica el grado de PolynomialFeatures para ver si consigues mejor R2\n",
        "''' ¿Te parece que es mejor modelo si aumentamos el grado del polinomio? ''' "
      ],
      "execution_count": null,
      "outputs": [
        {
          "output_type": "execute_result",
          "data": {
            "application/vnd.google.colaboratory.intrinsic+json": {
              "type": "string"
            },
            "text/plain": [
              "' ¿Te parece que es mejor modelo si aumentamos el grado del polinomio? '"
            ]
          },
          "metadata": {},
          "execution_count": 67
        }
      ]
    },
    {
      "cell_type": "code",
      "metadata": {
        "id": "5papOZH3dKeE",
        "cellView": "form"
      },
      "source": [
        "#@title -- Doble clic para ver la respuesta -- { form-width: \"1%\" }\n",
        "\n",
        "# El modelo es peor porque a pesar de obtener mejor puntuación \n",
        "# la curva no se ajusta bien a la nube de puntos\n",
        "\n",
        "# El problema que se produce aquí es el del Overfitting. \n",
        "# El modelo no generaliza bien sino que \"aprende\" los valores con los que es entrenado.\n",
        "# Esto se corrige dividiendo el conjunto de datos en dos grupos: train y test.\n",
        "# Se crea el modelo con train y se evalúa su puntuación con test\n",
        "# Veremos cómo se hace esto en el tema siguiente"
      ],
      "execution_count": null,
      "outputs": []
    },
    {
      "cell_type": "markdown",
      "metadata": {
        "id": "y7I0Hs4fGnw0"
      },
      "source": [
        "# Descenso del gradiente estocástico"
      ]
    },
    {
      "cell_type": "markdown",
      "metadata": {
        "id": "F0EwN7t5GzgG"
      },
      "source": [
        "En el descenso de gradientes, el lote es la totalidad de ejemplos que usamos para calcular el gradiente en cada iteración. Hasta ahora, hemos supuesto que el lote era el conjunto de datos completo. Al trabajar a la escala de Big Data, los conjuntos de datos suelen tener miles de millones o incluso cientos de miles de millones de ejemplos. Además, los conjuntos de datos de Big Data con frecuencia contienen inmensas cantidades de atributos. En consecuencia, un lote puede ser enorme. Un lote muy grande puede causar que incluso una sola iteración tome un **tiempo muy prolongado** para calcularse.\n",
        "\n",
        "<img src=\"https://drive.google.com/uc?id=161Zja9VdwOIC44RdkSAjFFT6vDKrFY8T\" alt=\"Drawing\" width=\"800\"/>\n",
        "\n",
        "Es probable que un conjunto de datos grande con ejemplos muestreados al azar contenga datos redundantes. De hecho, la redundancia se vuelve más probable a medida que aumenta el tamaño del lote. Un poco de redundancia puede ser útil para atenuar las gradientes inconsistentes, pero los lotes enormes tienden a no tener un valor mucho más predictivo que los lotes grandes.\n",
        "\n",
        "En el descenso del gradiente estocástico (SGD) tomamos **ejemplos al azar** de nuestro conjunto de datos (un tamaño del lote de 1 por iteración). De esta forma, estimamos (si bien de manera inconsistente). Cuando se dan muchas iteraciones, el SGD funciona, pero es muy inconsistente. El término \"estocástico\" indica que el ejemplo único que compone cada lote se elige al azar.\n",
        "\n",
        "<img src=\"https://drive.google.com/uc?id=1x4dLHK8NVJc3WwYFzcus_LOWScySIxuk\" alt=\"Drawing\" width=\"400\"/>\n",
        "\n",
        "El comportamiento en el desenso del gradiente estocástico es un tanto errático pero mucho más rápido:\n",
        "\n",
        "<img src=\"https://drive.google.com/uc?id=1654FyUdg89QlMiBPWNsm3zvVJ8sEIn70\" alt=\"Drawing\" width=\"800\"/>\n",
        "\n"
      ]
    },
    {
      "cell_type": "markdown",
      "metadata": {
        "id": "qr-OMQ6DHZW4"
      },
      "source": [
        "Con Gradient Descent hacíamos:"
      ]
    },
    {
      "cell_type": "code",
      "metadata": {
        "colab": {
          "base_uri": "https://localhost:8080/"
        },
        "id": "-79vzsNrGtrC",
        "outputId": "c40b901a-107d-4d8c-80be-dde3af2cd494"
      },
      "source": [
        "from sklearn.linear_model import LinearRegression\n",
        "lin_reg = LinearRegression()\n",
        " \n",
        "lin_reg.fit(X_poly, y)"
      ],
      "execution_count": 53,
      "outputs": [
        {
          "output_type": "execute_result",
          "data": {
            "text/plain": [
              "LinearRegression()"
            ]
          },
          "metadata": {},
          "execution_count": 53
        }
      ]
    },
    {
      "cell_type": "code",
      "metadata": {
        "colab": {
          "base_uri": "https://localhost:8080/"
        },
        "id": "Qql4YdEBcRTs",
        "outputId": "4671c92a-d4cb-4445-c9ae-624d3b6396dd"
      },
      "source": [
        "y_pred = lin_reg.predict(X_poly)\n",
        "print(metrics.r2_score(y, y_pred))"
      ],
      "execution_count": 54,
      "outputs": [
        {
          "output_type": "stream",
          "name": "stdout",
          "text": [
            "0.8113531844680646\n"
          ]
        }
      ]
    },
    {
      "cell_type": "markdown",
      "metadata": {
        "id": "mL7H7KGBHeFH"
      },
      "source": [
        "Con Stochastic Gradient Descent hacemos:"
      ]
    },
    {
      "cell_type": "code",
      "metadata": {
        "colab": {
          "base_uri": "https://localhost:8080/"
        },
        "id": "PyH8jwinHjjo",
        "outputId": "a06e17da-cf03-4490-8ab6-91cea83db6f4"
      },
      "source": [
        "from sklearn.linear_model import SGDRegressor\n",
        "lin_reg_SGD = SGDRegressor()\n",
        " \n",
        "lin_reg_SGD.fit(X_poly, y)"
      ],
      "execution_count": 55,
      "outputs": [
        {
          "output_type": "stream",
          "name": "stderr",
          "text": [
            "/usr/local/lib/python3.7/dist-packages/sklearn/utils/validation.py:993: DataConversionWarning: A column-vector y was passed when a 1d array was expected. Please change the shape of y to (n_samples, ), for example using ravel().\n",
            "  y = column_or_1d(y, warn=True)\n"
          ]
        },
        {
          "output_type": "execute_result",
          "data": {
            "text/plain": [
              "SGDRegressor()"
            ]
          },
          "metadata": {},
          "execution_count": 55
        }
      ]
    },
    {
      "cell_type": "code",
      "metadata": {
        "colab": {
          "base_uri": "https://localhost:8080/"
        },
        "id": "vgVK9ul9cc2N",
        "outputId": "e8bcb80c-52f7-45f5-8d1f-89677c0e124f"
      },
      "source": [
        "y_pred = lin_reg_SGD.predict(X_poly)\n",
        "print(metrics.r2_score(y, y_pred))"
      ],
      "execution_count": 56,
      "outputs": [
        {
          "output_type": "stream",
          "name": "stdout",
          "text": [
            "0.8101811697970178\n"
          ]
        }
      ]
    },
    {
      "cell_type": "markdown",
      "metadata": {
        "id": "h9c1UK-kHwZV"
      },
      "source": [
        "# Descenso del gradiente estocástico en minilotes"
      ]
    },
    {
      "cell_type": "markdown",
      "metadata": {
        "id": "DzAD94s-Hz6O"
      },
      "source": [
        "Mini-batch Stochastic Gradient Descent\n",
        "\n",
        "El descenso de gradiente estocástico en minilote (SGD de minilotes) es un equilibrio entre la iteración de lote completo y el SGD. Un minilote generalmente tiene entre 10 y 1,000 ejemplos, elegidos al azar. El SGD de minilote reduce la cantidad de inconsistencia del SGD, pero sigue siendo más rápido que el lote completo.\n",
        "\n",
        "<img src=\"https://drive.google.com/uc?id=165HaBNjVh16KfQIHcxe6ZcUbeHX-UaAJ\" alt=\"Drawing\" width=\"800\"/>\n",
        "\n",
        "Definimos un método para obtener lotes aleatorios:\n"
      ]
    },
    {
      "cell_type": "code",
      "metadata": {
        "id": "C0a4NIoCH67Q"
      },
      "source": [
        "def get_batch(X, y, batch_size):\n",
        "       indexes = np.random.randint(len(X), size=batch_size)\n",
        "       return X[indexes,:], y[indexes,:]"
      ],
      "execution_count": 57,
      "outputs": []
    },
    {
      "cell_type": "markdown",
      "metadata": {
        "id": "P1BBTbRwH_OE"
      },
      "source": [
        "Y entrenamos con Gradient descent parciales, por ejemplo, 1000 épocas:\n"
      ]
    },
    {
      "cell_type": "code",
      "metadata": {
        "colab": {
          "base_uri": "https://localhost:8080/"
        },
        "id": "qRY13KzBIDSl",
        "outputId": "11b58921-f7ee-4b28-9d63-ade57310c4d3"
      },
      "source": [
        "from sklearn.linear_model import SGDRegressor\n",
        "lin_reg_SGD = SGDRegressor()\n",
        "#lin_reg = LinearRegression()\n",
        "for i in range(1, 1000):\n",
        "\tXX, YY = get_batch(X_poly, y, batch_size = 10)\n",
        "\tlin_reg_SGD.partial_fit(XX, YY.ravel()) # partial_fit sólo calcula una época.\n",
        "print(\"Coef:\",lin_reg_SGD.coef_)\n",
        "print(\"Punto de corte:\", lin_reg_SGD.intercept_)\n"
      ],
      "execution_count": 58,
      "outputs": [
        {
          "output_type": "stream",
          "name": "stdout",
          "text": [
            "Coef: [0.99205036 0.5356587 ]\n",
            "Punto de corte: [2.06179829]\n"
          ]
        }
      ]
    },
    {
      "cell_type": "code",
      "metadata": {
        "colab": {
          "base_uri": "https://localhost:8080/"
        },
        "id": "7mgn4Ws5cocX",
        "outputId": "4f2a540f-1260-4980-bf26-0250a9f4d8c4"
      },
      "source": [
        "y_pred = lin_reg_SGD.predict(X_poly)\n",
        "print(metrics.r2_score(y, y_pred))"
      ],
      "execution_count": 59,
      "outputs": [
        {
          "output_type": "stream",
          "name": "stdout",
          "text": [
            "0.8111518773510358\n"
          ]
        }
      ]
    },
    {
      "cell_type": "markdown",
      "metadata": {
        "id": "fEBXW9JLJbQT"
      },
      "source": [
        "# Regresión Lineal Múltiple"
      ]
    },
    {
      "cell_type": "markdown",
      "metadata": {
        "id": "itUWqMFaJie9"
      },
      "source": [
        "Abordaremos la regresión lineal múltiple con un ejercicio. Usaremos un dataset de distintos modelos de vehículos que incluye un atributo correspondiente a las emisiones de CO2, que trataremos como variable dependiente. Para ello, de todos los atributos nos quedaremos con el tamaño del motor, el número de cilindros y el consumo de combustible, que serán las variables independientes.\n",
        "\n",
        "<img src=\"https://drive.google.com/uc?id=1CVOxgbIgNTv7weNuHHXR0waOzPzEjMRr\" alt=\"Drawing\" width=\"600\"/>\n",
        "\n",
        "El valor predicho $\\hat{y}$ para un valor desconocido de emisiones de CO2 es descrito por la ecuación:\n",
        "\n",
        "<center>\n",
        "$\\hat{y}=w_0+w_1x_1+w_2x_2+ ... +w_nx_n$\n",
        "</center>\n",
        "\n",
        "Vectorialmente:\n",
        "\n",
        "$\\begin{align}\n",
        "    W = \\begin{bmatrix}\n",
        "           w_0 \\\\\n",
        "           w_1 \\\\\n",
        "           w_2 \\\\\n",
        "           w_3 \\\\\n",
        "           w_4 \\\\\n",
        "           ...           \n",
        "         \\end{bmatrix} \n",
        "          \\hspace{1cm}\n",
        "          X = \\begin{bmatrix}\n",
        "           1 \\\\\n",
        "           x_1 \\\\\n",
        "           x_2 \\\\\n",
        "           x_3 \\\\\n",
        "           x_4 \\\\\n",
        "           ...           \n",
        "         \\end{bmatrix} \n",
        "  \\end{align}$\n",
        "\n",
        "$W^T = \\begin{bmatrix}\n",
        "           w_0\\hspace{0.2cm}\\\\\n",
        "           w_1\\hspace{0.2cm}\\\\\n",
        "           w_2\\hspace{0.2cm}\\\\\n",
        "           w_3\\hspace{0.2cm}\\\\\n",
        "           ...           \n",
        "         \\end{bmatrix} $\n",
        "\n",
        "<br>\n",
        "<center>\n",
        "$\\hat{y}=W^TX$\n",
        "</center>\n",
        "\n",
        "Supongamos que hemos calculado el vector W.\n",
        "\n",
        "Si tomamos la primera observación y aplicamos la fórmula, sustituyendo los valores de las variables $x_i$  tendremos el vector X = [ 1, 2.0, 4, 8.5 ]. Pongamos, por ejemplo, que obtenemos un valor de 140. Si observamos el valor real de $y_i$ vemos que es 196. Luego se ha producido un error de 56.\n",
        "<center>\n",
        "$e_i=y_i-\\hat{y}_i$\n",
        "</Center>\n",
        "\n",
        "$e_0=y_0-\\hat{y}_0=196-140=56$\n",
        "\n",
        "$MSE=\\frac{1}{n}\\sum_{i=1}^n (y_i-\\hat{y}_i)^2$\n",
        "\n",
        "Utilizaremos el descenso del gradiente para obtener los parámetros W. Supongamos que obtenemos el siguiente $W^T=[125, 6.2, 14, … ]$\n",
        "\n",
        "<center>\n",
        "$\\hat{y}=125+6.2x_1+14x_2+ ...$\n",
        "</center>\n",
        "\n",
        "Para nuestro caso en el que no conocemos las emisiones de $CO_2$, :\n",
        "\n",
        "<img src=\"https://drive.google.com/uc?id=1DZok0gA8CqfGeGUJmd9wT3ewHPnpMoca\" alt=\"Drawing\" width=\"600\"/>\n",
        "\n",
        "Con esta fórmula podemos predecir las emisiones de nuestro caso hipotético.\n",
        "\n",
        "<center>\n",
        "$\\hat{y}=125+6.2·2.4+14·4 + ...$\n",
        "</center>\n"
      ]
    },
    {
      "cell_type": "code",
      "metadata": {
        "id": "xIqLU_6eJjkN"
      },
      "source": [
        "import matplotlib.pyplot as plt\n",
        "import pandas as pd\n",
        "import numpy as np\n",
        "%matplotlib inline"
      ],
      "execution_count": null,
      "outputs": []
    },
    {
      "cell_type": "code",
      "metadata": {
        "id": "EeZN5tECw_Z9",
        "colab": {
          "base_uri": "https://localhost:8080/"
        },
        "outputId": "c72bc6ba-42b7-4613-f455-695c947b364d"
      },
      "source": [
        "# Para descargar los datos, utilizaremos !wget para descargarlos desde IBM Object Storage.\n",
        "!wget -O FuelConsumption.csv https://s3-api.us-geo.objectstorage.softlayer.net/cf-courses-data/CognitiveClass/ML0101ENv3/labs/FuelConsumptionCo2.csv"
      ],
      "execution_count": null,
      "outputs": [
        {
          "output_type": "stream",
          "name": "stdout",
          "text": [
            "--2021-10-13 16:22:17--  https://s3-api.us-geo.objectstorage.softlayer.net/cf-courses-data/CognitiveClass/ML0101ENv3/labs/FuelConsumptionCo2.csv\n",
            "Resolving s3-api.us-geo.objectstorage.softlayer.net (s3-api.us-geo.objectstorage.softlayer.net)... 67.228.254.196\n",
            "Connecting to s3-api.us-geo.objectstorage.softlayer.net (s3-api.us-geo.objectstorage.softlayer.net)|67.228.254.196|:443... connected.\n",
            "HTTP request sent, awaiting response... 200 OK\n",
            "Length: 72629 (71K) [text/csv]\n",
            "Saving to: ‘FuelConsumption.csv’\n",
            "\n",
            "FuelConsumption.csv 100%[===================>]  70.93K  --.-KB/s    in 0.03s   \n",
            "\n",
            "2021-10-13 16:22:17 (2.21 MB/s) - ‘FuelConsumption.csv’ saved [72629/72629]\n",
            "\n"
          ]
        }
      ]
    },
    {
      "cell_type": "code",
      "metadata": {
        "colab": {
          "base_uri": "https://localhost:8080/",
          "height": 278
        },
        "id": "9DYYRnWrxDSI",
        "outputId": "4a4db0b5-351d-4f53-e716-24016d3afd57"
      },
      "source": [
        "df = pd.read_csv(\"FuelConsumption.csv\")\n",
        "df.head()"
      ],
      "execution_count": null,
      "outputs": [
        {
          "output_type": "execute_result",
          "data": {
            "text/html": [
              "<div>\n",
              "<style scoped>\n",
              "    .dataframe tbody tr th:only-of-type {\n",
              "        vertical-align: middle;\n",
              "    }\n",
              "\n",
              "    .dataframe tbody tr th {\n",
              "        vertical-align: top;\n",
              "    }\n",
              "\n",
              "    .dataframe thead th {\n",
              "        text-align: right;\n",
              "    }\n",
              "</style>\n",
              "<table border=\"1\" class=\"dataframe\">\n",
              "  <thead>\n",
              "    <tr style=\"text-align: right;\">\n",
              "      <th></th>\n",
              "      <th>MODELYEAR</th>\n",
              "      <th>MAKE</th>\n",
              "      <th>MODEL</th>\n",
              "      <th>VEHICLECLASS</th>\n",
              "      <th>ENGINESIZE</th>\n",
              "      <th>CYLINDERS</th>\n",
              "      <th>TRANSMISSION</th>\n",
              "      <th>FUELTYPE</th>\n",
              "      <th>FUELCONSUMPTION_CITY</th>\n",
              "      <th>FUELCONSUMPTION_HWY</th>\n",
              "      <th>FUELCONSUMPTION_COMB</th>\n",
              "      <th>FUELCONSUMPTION_COMB_MPG</th>\n",
              "      <th>CO2EMISSIONS</th>\n",
              "    </tr>\n",
              "  </thead>\n",
              "  <tbody>\n",
              "    <tr>\n",
              "      <th>0</th>\n",
              "      <td>2014</td>\n",
              "      <td>ACURA</td>\n",
              "      <td>ILX</td>\n",
              "      <td>COMPACT</td>\n",
              "      <td>2.0</td>\n",
              "      <td>4</td>\n",
              "      <td>AS5</td>\n",
              "      <td>Z</td>\n",
              "      <td>9.9</td>\n",
              "      <td>6.7</td>\n",
              "      <td>8.5</td>\n",
              "      <td>33</td>\n",
              "      <td>196</td>\n",
              "    </tr>\n",
              "    <tr>\n",
              "      <th>1</th>\n",
              "      <td>2014</td>\n",
              "      <td>ACURA</td>\n",
              "      <td>ILX</td>\n",
              "      <td>COMPACT</td>\n",
              "      <td>2.4</td>\n",
              "      <td>4</td>\n",
              "      <td>M6</td>\n",
              "      <td>Z</td>\n",
              "      <td>11.2</td>\n",
              "      <td>7.7</td>\n",
              "      <td>9.6</td>\n",
              "      <td>29</td>\n",
              "      <td>221</td>\n",
              "    </tr>\n",
              "    <tr>\n",
              "      <th>2</th>\n",
              "      <td>2014</td>\n",
              "      <td>ACURA</td>\n",
              "      <td>ILX HYBRID</td>\n",
              "      <td>COMPACT</td>\n",
              "      <td>1.5</td>\n",
              "      <td>4</td>\n",
              "      <td>AV7</td>\n",
              "      <td>Z</td>\n",
              "      <td>6.0</td>\n",
              "      <td>5.8</td>\n",
              "      <td>5.9</td>\n",
              "      <td>48</td>\n",
              "      <td>136</td>\n",
              "    </tr>\n",
              "    <tr>\n",
              "      <th>3</th>\n",
              "      <td>2014</td>\n",
              "      <td>ACURA</td>\n",
              "      <td>MDX 4WD</td>\n",
              "      <td>SUV - SMALL</td>\n",
              "      <td>3.5</td>\n",
              "      <td>6</td>\n",
              "      <td>AS6</td>\n",
              "      <td>Z</td>\n",
              "      <td>12.7</td>\n",
              "      <td>9.1</td>\n",
              "      <td>11.1</td>\n",
              "      <td>25</td>\n",
              "      <td>255</td>\n",
              "    </tr>\n",
              "    <tr>\n",
              "      <th>4</th>\n",
              "      <td>2014</td>\n",
              "      <td>ACURA</td>\n",
              "      <td>RDX AWD</td>\n",
              "      <td>SUV - SMALL</td>\n",
              "      <td>3.5</td>\n",
              "      <td>6</td>\n",
              "      <td>AS6</td>\n",
              "      <td>Z</td>\n",
              "      <td>12.1</td>\n",
              "      <td>8.7</td>\n",
              "      <td>10.6</td>\n",
              "      <td>27</td>\n",
              "      <td>244</td>\n",
              "    </tr>\n",
              "  </tbody>\n",
              "</table>\n",
              "</div>"
            ],
            "text/plain": [
              "   MODELYEAR   MAKE  ... FUELCONSUMPTION_COMB_MPG CO2EMISSIONS\n",
              "0       2014  ACURA  ...                       33          196\n",
              "1       2014  ACURA  ...                       29          221\n",
              "2       2014  ACURA  ...                       48          136\n",
              "3       2014  ACURA  ...                       25          255\n",
              "4       2014  ACURA  ...                       27          244\n",
              "\n",
              "[5 rows x 13 columns]"
            ]
          },
          "metadata": {},
          "execution_count": 78
        }
      ]
    },
    {
      "cell_type": "code",
      "metadata": {
        "colab": {
          "base_uri": "https://localhost:8080/",
          "height": 332
        },
        "id": "Bl8WhijfxNmi",
        "outputId": "488669f6-9912-41f6-ce56-6c28c779f434"
      },
      "source": [
        "cdf = df[['ENGINESIZE','CYLINDERS','FUELCONSUMPTION_CITY','FUELCONSUMPTION_HWY','FUELCONSUMPTION_COMB','CO2EMISSIONS']]\n",
        "cdf.head(9)"
      ],
      "execution_count": null,
      "outputs": [
        {
          "output_type": "execute_result",
          "data": {
            "text/html": [
              "<div>\n",
              "<style scoped>\n",
              "    .dataframe tbody tr th:only-of-type {\n",
              "        vertical-align: middle;\n",
              "    }\n",
              "\n",
              "    .dataframe tbody tr th {\n",
              "        vertical-align: top;\n",
              "    }\n",
              "\n",
              "    .dataframe thead th {\n",
              "        text-align: right;\n",
              "    }\n",
              "</style>\n",
              "<table border=\"1\" class=\"dataframe\">\n",
              "  <thead>\n",
              "    <tr style=\"text-align: right;\">\n",
              "      <th></th>\n",
              "      <th>ENGINESIZE</th>\n",
              "      <th>CYLINDERS</th>\n",
              "      <th>FUELCONSUMPTION_CITY</th>\n",
              "      <th>FUELCONSUMPTION_HWY</th>\n",
              "      <th>FUELCONSUMPTION_COMB</th>\n",
              "      <th>CO2EMISSIONS</th>\n",
              "    </tr>\n",
              "  </thead>\n",
              "  <tbody>\n",
              "    <tr>\n",
              "      <th>0</th>\n",
              "      <td>2.0</td>\n",
              "      <td>4</td>\n",
              "      <td>9.9</td>\n",
              "      <td>6.7</td>\n",
              "      <td>8.5</td>\n",
              "      <td>196</td>\n",
              "    </tr>\n",
              "    <tr>\n",
              "      <th>1</th>\n",
              "      <td>2.4</td>\n",
              "      <td>4</td>\n",
              "      <td>11.2</td>\n",
              "      <td>7.7</td>\n",
              "      <td>9.6</td>\n",
              "      <td>221</td>\n",
              "    </tr>\n",
              "    <tr>\n",
              "      <th>2</th>\n",
              "      <td>1.5</td>\n",
              "      <td>4</td>\n",
              "      <td>6.0</td>\n",
              "      <td>5.8</td>\n",
              "      <td>5.9</td>\n",
              "      <td>136</td>\n",
              "    </tr>\n",
              "    <tr>\n",
              "      <th>3</th>\n",
              "      <td>3.5</td>\n",
              "      <td>6</td>\n",
              "      <td>12.7</td>\n",
              "      <td>9.1</td>\n",
              "      <td>11.1</td>\n",
              "      <td>255</td>\n",
              "    </tr>\n",
              "    <tr>\n",
              "      <th>4</th>\n",
              "      <td>3.5</td>\n",
              "      <td>6</td>\n",
              "      <td>12.1</td>\n",
              "      <td>8.7</td>\n",
              "      <td>10.6</td>\n",
              "      <td>244</td>\n",
              "    </tr>\n",
              "    <tr>\n",
              "      <th>5</th>\n",
              "      <td>3.5</td>\n",
              "      <td>6</td>\n",
              "      <td>11.9</td>\n",
              "      <td>7.7</td>\n",
              "      <td>10.0</td>\n",
              "      <td>230</td>\n",
              "    </tr>\n",
              "    <tr>\n",
              "      <th>6</th>\n",
              "      <td>3.5</td>\n",
              "      <td>6</td>\n",
              "      <td>11.8</td>\n",
              "      <td>8.1</td>\n",
              "      <td>10.1</td>\n",
              "      <td>232</td>\n",
              "    </tr>\n",
              "    <tr>\n",
              "      <th>7</th>\n",
              "      <td>3.7</td>\n",
              "      <td>6</td>\n",
              "      <td>12.8</td>\n",
              "      <td>9.0</td>\n",
              "      <td>11.1</td>\n",
              "      <td>255</td>\n",
              "    </tr>\n",
              "    <tr>\n",
              "      <th>8</th>\n",
              "      <td>3.7</td>\n",
              "      <td>6</td>\n",
              "      <td>13.4</td>\n",
              "      <td>9.5</td>\n",
              "      <td>11.6</td>\n",
              "      <td>267</td>\n",
              "    </tr>\n",
              "  </tbody>\n",
              "</table>\n",
              "</div>"
            ],
            "text/plain": [
              "   ENGINESIZE  CYLINDERS  ...  FUELCONSUMPTION_COMB  CO2EMISSIONS\n",
              "0         2.0          4  ...                   8.5           196\n",
              "1         2.4          4  ...                   9.6           221\n",
              "2         1.5          4  ...                   5.9           136\n",
              "3         3.5          6  ...                  11.1           255\n",
              "4         3.5          6  ...                  10.6           244\n",
              "5         3.5          6  ...                  10.0           230\n",
              "6         3.5          6  ...                  10.1           232\n",
              "7         3.7          6  ...                  11.1           255\n",
              "8         3.7          6  ...                  11.6           267\n",
              "\n",
              "[9 rows x 6 columns]"
            ]
          },
          "metadata": {},
          "execution_count": 79
        }
      ]
    },
    {
      "cell_type": "markdown",
      "metadata": {
        "id": "RSXVSZj7xu9z"
      },
      "source": [
        "Tracemos los valores de las emisiones con respecto al tamaño del motor:"
      ]
    },
    {
      "cell_type": "code",
      "metadata": {
        "id": "hPrFBJ_oxwyg",
        "colab": {
          "base_uri": "https://localhost:8080/",
          "height": 280
        },
        "outputId": "1de2e4d5-59df-4436-b737-d183a9b53c6f"
      },
      "source": [
        "plt.scatter(cdf['ENGINESIZE'], cdf.CO2EMISSIONS,  color='blue')\n",
        "plt.xlabel(\"Engine size\")\n",
        "plt.ylabel(\"Emission\")\n",
        "plt.show()"
      ],
      "execution_count": null,
      "outputs": [
        {
          "output_type": "display_data",
          "data": {
            "image/png": "[encoded data removed]",
            "text/plain": [
              "<Figure size 432x288 with 1 Axes>"
            ]
          },
          "metadata": {
            "needs_background": "light"
          }
        }
      ]
    },
    {
      "cell_type": "markdown",
      "metadata": {
        "id": "HSwbWM9Qhn01"
      },
      "source": [
        "#### Creando los datasets de entrenamiento y test\n",
        "La división entrenamiento/test implica dividir el conjunto de datos en conjuntos que son mutuamente excluyentes. Después de lo cual, se entrena con el conjunto de entrenamiento y se valida con el conjunto de test. \n",
        "Esto proporcionará una evaluación más exacta de la precisión fuera de la muestra, ya que el conjunto de datos de la prueba no forma parte del conjunto de datos que se ha utilizado para entrenar el modelo. Es más realista para los problemas del mundo real."
      ]
    },
    {
      "cell_type": "code",
      "metadata": {
        "id": "kI-EgByshvCV"
      },
      "source": [
        "msk = np.random.rand(len(df)) < 0.8\n",
        "train = cdf[msk]\n",
        "test = cdf[~msk]"
      ],
      "execution_count": null,
      "outputs": []
    },
    {
      "cell_type": "code",
      "metadata": {
        "id": "5e7oVgOaqCYQ"
      },
      "source": [
        "msk = np.random.rand(len(df))"
      ],
      "execution_count": null,
      "outputs": []
    },
    {
      "cell_type": "markdown",
      "metadata": {
        "id": "3oZ00V_mpQlV"
      },
      "source": [
        "Entrenamiento:"
      ]
    },
    {
      "cell_type": "code",
      "metadata": {
        "colab": {
          "base_uri": "https://localhost:8080/"
        },
        "id": "jiid0V73iiFK",
        "outputId": "0a02e9ae-3a57-43e5-a93d-cb8983689468"
      },
      "source": [
        "from sklearn import linear_model\n",
        "regr = linear_model.LinearRegression()\n",
        "X_train = train[['ENGINESIZE','CYLINDERS','FUELCONSUMPTION_COMB']]\n",
        "y_train = train[['CO2EMISSIONS']]\n",
        "regr.fit(X_train, y_train)\n",
        "# Los coeficientes\n",
        "print('Coefficients: ', regr.coef_)\n",
        "print('Intercept: ', regr.intercept_)\n",
        "y_pred_train = regr.predict(X_train)\n",
        "metrics.r2_score(y_train, y_pred_train)"
      ],
      "execution_count": null,
      "outputs": [
        {
          "output_type": "stream",
          "name": "stdout",
          "text": [
            "Coefficients:  [[10.66054809  7.92961692  9.62633001]]\n",
            "Intercept:  [63.09477335]\n"
          ]
        },
        {
          "output_type": "execute_result",
          "data": {
            "text/plain": [
              "0.8651326142329048"
            ]
          },
          "metadata": {},
          "execution_count": 83
        }
      ]
    },
    {
      "cell_type": "code",
      "metadata": {
        "colab": {
          "base_uri": "https://localhost:8080/"
        },
        "id": "hJg1YqCZkOEe",
        "outputId": "87845479-f52a-4357-d9dd-4b55c23666cb"
      },
      "source": [
        "from sklearn import metrics\n",
        "X_test = test[['ENGINESIZE','CYLINDERS','FUELCONSUMPTION_COMB']]\n",
        "y_test = test[['CO2EMISSIONS']]\n",
        "y_pred = regr.predict(X_test)\n",
        "metrics.r2_score(y_test, y_pred)"
      ],
      "execution_count": null,
      "outputs": [
        {
          "output_type": "execute_result",
          "data": {
            "text/plain": [
              "0.8586490582549573"
            ]
          },
          "metadata": {},
          "execution_count": 84
        }
      ]
    },
    {
      "cell_type": "code",
      "metadata": {
        "id": "VIjZloEQruUd"
      },
      "source": [
        "p = [[2.0, 4, 8.5]]\n",
        "p_pred = regr.predict(p)\n"
      ],
      "execution_count": null,
      "outputs": []
    },
    {
      "cell_type": "code",
      "metadata": {
        "colab": {
          "base_uri": "https://localhost:8080/"
        },
        "id": "t68bAR4esPQk",
        "outputId": "3960ce0e-c977-4f28-f2f4-45f17372ab84"
      },
      "source": [
        "p_pred"
      ],
      "execution_count": null,
      "outputs": [
        {
          "output_type": "execute_result",
          "data": {
            "text/plain": [
              "array([[197.95814231]])"
            ]
          },
          "metadata": {},
          "execution_count": 86
        }
      ]
    },
    {
      "cell_type": "code",
      "metadata": {
        "id": "R3EiB8K7k9eU"
      },
      "source": [
        "# Comprube cuál sería el R2 si usáramos el dataset train en lugar del test\n",
        "# ¿Era de esperar?"
      ],
      "execution_count": null,
      "outputs": []
    },
    {
      "cell_type": "code",
      "metadata": {
        "id": "qUUZ5ASvpycf"
      },
      "source": [
        "y_pred"
      ],
      "execution_count": null,
      "outputs": []
    },
    {
      "cell_type": "markdown",
      "metadata": {
        "id": "9KR9g8N1waoE"
      },
      "source": [
        "# Regresión logística"
      ]
    },
    {
      "cell_type": "markdown",
      "metadata": {
        "id": "iZJiMR_ow1S_"
      },
      "source": [
        "<img src=\"https://drive.google.com/uc?id=1aBpr3wGlqXQisDIQ87T980sGyvFkzgoo\" alt=\"Drawing\" width=\"600\"/>\n",
        "\n",
        "La regresión lineal vista anteriormente se utiliza para determinar el valor de una variable dependiente continua. En cambio, la regresión logística se utiliza generalmente para fines de **clasificación**. A diferencia de la regresión lineal, la variable dependiente sólo puede tomar un número limitado de valores, es decir, **la variable dependiente es categórica**. Cuando el número de resultados posibles es de solo dos, se denomina Regresión logística binaria.\n",
        "\n",
        "En Regresión lineal, la salida es la suma ponderada de las entradas. En la regresión logística no generamos la suma ponderada de las entradas directamente, sino que la pasamos a través de una función (llamada **función de activación**) que le asigna un valor real entre 0 y 1.\n",
        "\n",
        "<img src=\"https://drive.google.com/uc?id=13U8Xy1z_WuNEX26i-F8gWeHGHSPV28g5\" alt=\"Drawing\" width=\"400\"/>\n",
        "\n",
        "La **función de activación** que se utiliza se conoce como función **sigmoide** y tiene la siguiente forma:\n",
        "\n",
        "$F(x)=\\large{\\frac{1}{1+e^{-x}}}$\n",
        "\n",
        "Plot aquí: https://www.desmos.com/calculator/dxoubwyp5h\n",
        "\n",
        "Podemos usar 0.5 como el umbral de probabilidad para determinar las clases. Si la probabilidad es mayor que 0.5, la clasificamos como Clase 1 (Y = 1) en caso contrario como Clase 0 (Y = 0)\n",
        "\n",
        "\n",
        "\n",
        "Veamos las suposiciones hechas por Regresión logística:\n",
        "\n",
        " \n",
        "\n",
        "*   La variable dependiente debe ser categórica\n",
        "*   Las variables independientes (características) deben ser independientes (para evitar la multicolinealidad).\n",
        "\n",
        "\n",
        "Ejemplo:\n",
        "\n",
        "<img src=\"https://drive.google.com/uc?id=1LAF1L5994ywLjkdTAlfxw1XbhjBzOkR8\" alt=\"Drawing\" width=\"500\"/>\n"
      ]
    },
    {
      "cell_type": "code",
      "metadata": {
        "colab": {
          "base_uri": "https://localhost:8080/"
        },
        "id": "Rxc3tUm5Bv3Y",
        "outputId": "244fbb6f-ad9c-4577-a76e-49cf43f024e3"
      },
      "source": [
        "import numpy as np\n",
        "import pandas as pd\n",
        "from sklearn import linear_model\n",
        "import matplotlib.pyplot as plt\n",
        "\n",
        "# Load data\n",
        "# data = np.loadtxt('./heights_weights.csv', delimiter=',', skiprows=1)\n",
        "\n",
        "df = pd.read_csv('https://drive.google.com/uc?export=download&id=1ypiN0Kalkwsu6ygDomGRNVi5x2Fj-8TO')\n",
        "print(\"Data shape: \",df.shape)\n",
        "print(df.head(10))"
      ],
      "execution_count": null,
      "outputs": [
        {
          "output_type": "stream",
          "name": "stdout",
          "text": [
            "Data shape:  (10000, 3)\n",
            "   Gender     Height      Weight\n",
            "0       1  73.847017  241.893563\n",
            "1       1  68.781904  162.310473\n",
            "2       1  74.110105  212.740856\n",
            "3       1  71.730978  220.042470\n",
            "4       1  69.881796  206.349801\n",
            "5       1  67.253016  152.212156\n",
            "6       1  68.785081  183.927889\n",
            "7       1  68.348516  167.971110\n",
            "8       1  67.018950  175.929440\n",
            "9       1  63.456494  156.399676\n"
          ]
        }
      ]
    },
    {
      "cell_type": "code",
      "metadata": {
        "colab": {
          "base_uri": "https://localhost:8080/"
        },
        "id": "WHikm5mZsB0v",
        "outputId": "789c36da-dd87-4342-963e-32fb13da6ff6"
      },
      "source": [
        "categories = np.array(['Female', 'Male'])\n",
        "\n",
        "X = df.values[:,1:3]\n",
        "y = df.values[:,0]\n",
        "\n",
        "print(\"X shape:\", X.shape)\n"
      ],
      "execution_count": null,
      "outputs": [
        {
          "output_type": "stream",
          "name": "stdout",
          "text": [
            "X shape: (10000, 2)\n"
          ]
        }
      ]
    },
    {
      "cell_type": "code",
      "metadata": {
        "colab": {
          "base_uri": "https://localhost:8080/"
        },
        "id": "_9W__yGayreC",
        "outputId": "c8cfcd92-421f-4685-dab6-bf0ab0fe5b3e"
      },
      "source": [
        "# Fit (train) the Logistic Regression classifier\n",
        "clf = linear_model.LogisticRegression()\n",
        "#clf = linear_model.LogisticRegression(C=1e40, solver='newton-cg')\n",
        "clf.fit(X, y)\n",
        "\n",
        "# Predict\n",
        "prediction_result = clf.predict([[70,180]])\n",
        "print(\"Predicción para height: 70, weight: 180:\", categories[int(prediction_result)])"
      ],
      "execution_count": null,
      "outputs": [
        {
          "output_type": "stream",
          "name": "stdout",
          "text": [
            "Predicción para height: 70, weight: 180: Male\n"
          ]
        }
      ]
    },
    {
      "cell_type": "code",
      "metadata": {
        "colab": {
          "base_uri": "https://localhost:8080/"
        },
        "id": "9Kbw0cSitY_Q",
        "outputId": "89fc9f4d-86e4-4f6d-ba15-c27991aa14b2"
      },
      "source": [
        "prediction_result"
      ],
      "execution_count": null,
      "outputs": [
        {
          "output_type": "execute_result",
          "data": {
            "text/plain": [
              "array([1.])"
            ]
          },
          "metadata": {},
          "execution_count": 4
        }
      ]
    },
    {
      "cell_type": "code",
      "metadata": {
        "colab": {
          "base_uri": "https://localhost:8080/"
        },
        "id": "aBuy9GpW4rrY",
        "outputId": "77ebc4d2-fa19-47f1-b30e-6627cd8bd810"
      },
      "source": [
        "print(\"Coefs:\", clf.coef_)\n",
        "print(\"Intercept:\", clf.intercept_)"
      ],
      "execution_count": null,
      "outputs": [
        {
          "output_type": "stream",
          "name": "stdout",
          "text": [
            "Coefs: [[-0.47828673  0.19680042]]\n",
            "Intercept: [-0.0100464]\n"
          ]
        }
      ]
    },
    {
      "cell_type": "code",
      "metadata": {
        "colab": {
          "base_uri": "https://localhost:8080/",
          "height": 491
        },
        "id": "iiwJPGsg4vRY",
        "outputId": "97dcf82e-5120-45a3-92bd-e4bc30058ba7"
      },
      "source": [
        "\n",
        "\n",
        "#--------------\n",
        "# To plot the decision boundary\n",
        "parameters = clf.coef_\n",
        "x_values = [np.min(X[:, 0]), np.max(X[:, 0])]\n",
        "y_values = - (parameters[0] + np.dot(X[1], x_values)) / parameters[0]\n",
        "\n",
        "# Retrieve the model parameters.\n",
        "b = clf.intercept_[0]\n",
        "w1, w2 = clf.coef_.T\n",
        "# Calculate the intercept and gradient of the decision boundary.\n",
        "c = -b/w2\n",
        "m = -w1/w2\n",
        "\n",
        "# Plot the data and the classification with the decision boundary.\n",
        "xmin, xmax = min(X[:,0]), max(X[:,0])\n",
        "ymin, ymax = min(X[:,1]), max(X[:,1])\n",
        "xd = np.array([xmin, xmax])\n",
        "yd = m*xd + c\n",
        "plt.plot(xd, yd, 'k', lw=1, ls='--')\n",
        "plt.fill_between(xd, yd, ymin, color='tab:orange', alpha=0.2)\n",
        "plt.fill_between(xd, yd, ymax, color='tab:blue', alpha=0.2)\n",
        "plt.legend()\n",
        "\n",
        "#--------------\n",
        "\n",
        "# plots\n",
        "X_male = df.loc[df['Gender'] == 1.0]\n",
        "X_female = df.loc[df['Gender'] == 0.0]\n",
        "print(X_male.head(5))\n",
        "print(X_female.head(5))\n",
        "plt.scatter(X_male.iloc[:, 1], X_male.iloc[:, 2], s=10, label='Male', alpha=0.2)\n",
        "plt.scatter(X_female.iloc[:, 1], X_female.iloc[:, 2], s=10, label='Female', alpha=0.2)\n",
        "# plt.xlabel = \"Peso\"\n",
        "# plt.ylabel = \"Altura\"\n",
        "\n",
        "plt.legend()\n",
        "plt.show()\n"
      ],
      "execution_count": null,
      "outputs": [
        {
          "output_type": "stream",
          "name": "stderr",
          "text": [
            "No handles with labels found to put in legend.\n"
          ]
        },
        {
          "output_type": "stream",
          "name": "stdout",
          "text": [
            "   Gender     Height      Weight\n",
            "0       1  73.847017  241.893563\n",
            "1       1  68.781904  162.310473\n",
            "2       1  74.110105  212.740856\n",
            "3       1  71.730978  220.042470\n",
            "4       1  69.881796  206.349801\n",
            "      Gender     Height      Weight\n",
            "5000       0  58.910732  102.088326\n",
            "5001       0  65.230013  141.305823\n",
            "5002       0  63.369004  131.041403\n",
            "5003       0  64.479997  128.171511\n",
            "5004       0  61.793096  129.781407\n"
          ]
        },
        {
          "output_type": "display_data",
          "data": {
            "image/png": "[encoded data removed]",
            "text/plain": [
              "<Figure size 432x288 with 1 Axes>"
            ]
          },
          "metadata": {
            "needs_background": "light"
          }
        }
      ]
    },
    {
      "cell_type": "code",
      "metadata": {
        "colab": {
          "base_uri": "https://localhost:8080/"
        },
        "id": "929y3c6Q5GgL",
        "outputId": "18b7020b-3470-46b7-f533-1e21cf485a36"
      },
      "source": [
        "# Coeficiente de determinación R2\n",
        "\n",
        "from sklearn import metrics\n",
        "y_pred = clf.predict(X)\n",
        "print(metrics.r2_score(y, y_pred))"
      ],
      "execution_count": null,
      "outputs": [
        {
          "output_type": "stream",
          "name": "stdout",
          "text": [
            "0.6779999999999999\n"
          ]
        }
      ]
    },
    {
      "cell_type": "code",
      "metadata": {
        "colab": {
          "base_uri": "https://localhost:8080/"
        },
        "id": "NvkJiN7iEJsc",
        "outputId": "e976da2e-43df-4cbf-fbac-fd29874b97b4"
      },
      "source": [
        "# En la Regresión Logística es mejor utilizar como métrica la exactitud (Porcentaje de aciertos):\n",
        "\n",
        "print(metrics.accuracy_score(y, y_pred))\n"
      ],
      "execution_count": null,
      "outputs": [
        {
          "output_type": "stream",
          "name": "stdout",
          "text": [
            "0.9195\n"
          ]
        }
      ]
    },
    {
      "cell_type": "code",
      "metadata": {
        "colab": {
          "base_uri": "https://localhost:8080/"
        },
        "id": "ti7U0DY4CPvm",
        "outputId": "b0f00afe-9177-4047-b561-38f857a4a8e2"
      },
      "source": [
        "# Predecimos un ejemplo:\n",
        "height = 68\n",
        "weight = 172\n",
        "\n",
        "y_pred_1 = clf.predict([[height, weight]])\n",
        "print(y_pred_1)"
      ],
      "execution_count": null,
      "outputs": [
        {
          "output_type": "stream",
          "name": "stdout",
          "text": [
            "[1.]\n"
          ]
        }
      ]
    },
    {
      "cell_type": "code",
      "metadata": {
        "id": "onI7i0gbeM9g"
      },
      "source": [
        "import math\n",
        "y_pred_calc = height*clf.coef_[0][0] + weight*clf.coef_[0][1] + clf.intercept_\n",
        "y_pred_calc_sigm = 1 / (1 + math.exp(-y_pred_calc))"
      ],
      "execution_count": null,
      "outputs": []
    },
    {
      "cell_type": "code",
      "metadata": {
        "colab": {
          "base_uri": "https://localhost:8080/"
        },
        "id": "yaF--HXZehKM",
        "outputId": "414b42fd-8016-478a-ef1d-826b248ce82f"
      },
      "source": [
        "print(y_pred_calc_sigm)\n"
      ],
      "execution_count": null,
      "outputs": [
        {
          "output_type": "stream",
          "name": "stdout",
          "text": [
            "0.7885368928698269\n"
          ]
        }
      ]
    },
    {
      "cell_type": "code",
      "metadata": {
        "id": "UeHUTXiRejZy"
      },
      "source": [],
      "execution_count": null,
      "outputs": []
    },
    {
      "cell_type": "markdown",
      "source": [
        "Veremos Regresión Logística Multiclase en el tema 4"
      ],
      "metadata": {
        "id": "UQ2NQerGtKgd"
      }
    },
    {
      "cell_type": "code",
      "source": [],
      "metadata": {
        "id": "A1u--CBetehR"
      },
      "execution_count": null,
      "outputs": []
    }
  ]
}